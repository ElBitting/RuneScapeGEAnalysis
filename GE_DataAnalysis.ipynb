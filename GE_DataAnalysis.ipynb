{
 "cells": [
  {
   "cell_type": "markdown",
   "id": "c53006f5",
   "metadata": {},
   "source": [
    "Apropriate Imports"
   ]
  },
  {
   "cell_type": "code",
   "execution_count": 1,
   "id": "92a4494c-145b-4bf5-b979-1f0479161030",
   "metadata": {},
   "outputs": [],
   "source": [
    "import pandas as pd"
   ]
  },
  {
   "cell_type": "markdown",
   "id": "7366fac0",
   "metadata": {},
   "source": [
    "Overview Idea: \n",
    "\n",
    "Make a data fram of prices for items over timer. Items will be columns headers, days as rows, and entries as average price on day"
   ]
  },
  {
   "cell_type": "markdown",
   "id": "bc9e0ca9",
   "metadata": {},
   "source": [
    "Import data"
   ]
  },
  {
   "cell_type": "code",
   "execution_count": 44,
   "id": "0152890f",
   "metadata": {},
   "outputs": [],
   "source": [
    "df = pd.read_csv('osrs_prices.csv')"
   ]
  },
  {
   "cell_type": "markdown",
   "id": "b3a2f1d7",
   "metadata": {},
   "source": [
    "First Month: April 2021"
   ]
  },
  {
   "cell_type": "code",
   "execution_count": 121,
   "id": "a8080660",
   "metadata": {},
   "outputs": [],
   "source": [
    "items = [2,6,8,10]\n",
    "prices = pd.DataFrame()\n",
    "timestamps = False\n",
    "for i in items:\n",
    "    filtered_rows = df[df.iloc[:,0] == i]\n",
    "    filtered_rows = filtered_rows.reset_index(drop=True)\n",
    "\n",
    "    prices['TimeStamps'] = filtered_rows.iloc[:,1]\n",
    "    \n",
    "    prices[i] = (filtered_rows.iloc[:,2]*filtered_rows.iloc[:,3]+filtered_rows.iloc[:,4]*filtered_rows.iloc[:,5])/(filtered_rows.iloc[:,5]+filtered_rows.iloc[:,3])\n"
   ]
  },
  {
   "cell_type": "code",
   "execution_count": 122,
   "id": "35f97011",
   "metadata": {},
   "outputs": [
    {
     "name": "stdout",
     "output_type": "stream",
     "text": [
      "       TimeStamps           2              6              8             10\n",
      "0    1.617322e+09  151.056084  181886.100649  183487.357973  183989.901740\n",
      "1    1.617408e+09  151.877208  182542.004751  183304.318290  183936.733333\n",
      "2    1.617494e+09  150.138041  183508.741104  183342.458763  184380.464508\n",
      "3    1.617581e+09  148.289139  183172.213592  183206.861818  186572.785950\n",
      "4    1.617667e+09  147.114972  183030.525843  183135.580683  183583.262864\n",
      "..            ...         ...            ...            ...            ...\n",
      "726  1.680221e+09  163.180155  186646.311258  186535.141962  185972.872483\n",
      "727  1.680307e+09  163.054553  204701.872865  187009.406393  380056.633333\n",
      "728  1.680394e+09  162.583156  186313.505747  185761.484064  225794.944751\n",
      "729           NaN  161.580869            NaN            NaN            NaN\n",
      "730           NaN  161.600063            NaN            NaN            NaN\n",
      "\n",
      "[731 rows x 5 columns]\n"
     ]
    }
   ],
   "source": [
    "print(prices)"
   ]
  },
  {
   "cell_type": "code",
   "execution_count": null,
   "id": "2bdb6390",
   "metadata": {},
   "outputs": [],
   "source": []
  }
 ],
 "metadata": {
  "kernelspec": {
   "display_name": "base",
   "language": "python",
   "name": "python3"
  },
  "language_info": {
   "codemirror_mode": {
    "name": "ipython",
    "version": 3
   },
   "file_extension": ".py",
   "mimetype": "text/x-python",
   "name": "python",
   "nbconvert_exporter": "python",
   "pygments_lexer": "ipython3",
   "version": "3.11.5"
  }
 },
 "nbformat": 4,
 "nbformat_minor": 5
}
