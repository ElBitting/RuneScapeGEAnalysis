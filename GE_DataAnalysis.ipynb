{
 "cells": [
  {
   "cell_type": "code",
   "execution_count": 100,
   "id": "92a4494c-145b-4bf5-b979-1f0479161030",
   "metadata": {},
   "outputs": [],
   "source": [
    "import requests\n",
    "import json\n",
    "import csv\n",
    "import time"
   ]
  },
  {
   "cell_type": "code",
   "execution_count": 101,
   "id": "66f7b965-b63e-4e54-9fb5-ce92e03e387d",
   "metadata": {},
   "outputs": [],
   "source": [
    "def fetch_item_price(item_id):\n",
    "    item_data = data.get(\"data\", {}).get(str(item_id), {})\n",
    "\n",
    "    if not item_data:\n",
    "        print(f\"Item ID {item_id} not found in the API response.\")\n",
    "        return None\n",
    "\n",
    "    return {\n",
    "        \"id\": item_id,\n",
    "        \"high\": item_data.get(\"avgHighPrice\"),\n",
    "        \"low\": item_data.get(\"avgLowPrice\")\n",
    "    }\n"
   ]
  },
  {
   "cell_type": "code",
   "execution_count": 102,
   "id": "04745ba5-5c43-4ab5-a24f-d0248005ceac",
   "metadata": {},
   "outputs": [],
   "source": [
    "def save_to_csv(data, filename=\"osrs_prices.csv\"):\n",
    "    \"\"\"\n",
    "    Appends data to a CSV file.\n",
    "\n",
    "    Args:\n",
    "        data (list): List of dictionaries containing item data.\n",
    "        filename (str): The CSV file to write to.\n",
    "    \"\"\"\n",
    "    file_exists = False\n",
    "    try:\n",
    "        # Check if the file already exists\n",
    "        with open(filename, \"r\") as file:\n",
    "            file_exists = True\n",
    "    except FileNotFoundError:\n",
    "        pass\n",
    "\n",
    "    with open(filename, mode=\"a\", newline=\"\") as file:\n",
    "        writer = csv.writer(file)\n",
    "        if not file_exists:\n",
    "            writer.writerow([\"Item ID\", \"High Price\", \"Low Price\"])  # Header row if file doesn't exist\n",
    "        for item in data:\n",
    "            writer.writerow([item[\"id\"], item[\"high\"], item[\"low\"]])\n",
    "    print(f\"Data appended to {filename}\")"
   ]
  },
  {
   "cell_type": "code",
   "execution_count": 110,
   "id": "67f48a3e-66c5-47a8-8fd8-e123f013b130",
   "metadata": {},
   "outputs": [
    {
     "name": "stdout",
     "output_type": "stream",
     "text": [
      "Old School RuneScape Grand Exchange Price Scraper\n",
      "Item ID: 4151 - High Price: 1411663 - Low Price: 1395905\n",
      "Item ID: 11840 - High Price: 119276 - Low Price: 116272\n",
      "Item ID: 12934 - High Price: 291 - Low Price: 287\n",
      "Data appended to osrs_prices.csv\n"
     ]
    }
   ],
   "source": [
    " url = \"https://prices.runescape.wiki/api/v1/osrs/1h\"\n",
    "\n",
    "response = requests.get(url, headers={\n",
    "'User-Agent': '@el on discord'\n",
    "})\n",
    "response.raise_for_status()  # Raise an HTTPError for bad responses (4xx and 5xx)\n",
    "\n",
    "data = response.json()\n",
    "\n",
    "\n",
    "all_data = []\n",
    "print(\"Old School RuneScape Grand Exchange Price Scraper\")\n",
    "\n",
    "# Example: List of item IDs to fetch\n",
    "item_ids = [4151, 11840, 12934]  # Abyssal whip, Dragon boots, Zulrah's scales\n",
    "\n",
    "for item_id in item_ids:\n",
    "    item_data = fetch_item_price(item_id)\n",
    "\n",
    "    if item_data:\n",
    "        all_data.append(item_data)\n",
    "        print(f\"Item ID: {item_data['id']} - High Price: {item_data['high']} - Low Price: {item_data['low']}\")\n",
    "    else:\n",
    "        print(f\"Failed to fetch data for item ID {item_id}\")\n",
    "        \n",
    "\n",
    "save_to_csv(all_data)"
   ]
  },
  {
   "cell_type": "code",
   "execution_count": null,
   "id": "e619c5f9-766c-42b4-8f63-820e28161deb",
   "metadata": {},
   "outputs": [],
   "source": []
  },
  {
   "cell_type": "code",
   "execution_count": null,
   "id": "3f91be20-67cb-46a8-933e-b958472a208b",
   "metadata": {},
   "outputs": [],
   "source": []
  }
 ],
 "metadata": {
  "kernelspec": {
   "display_name": "Python 3 (ipykernel)",
   "language": "python",
   "name": "python3"
  },
  "language_info": {
   "codemirror_mode": {
    "name": "ipython",
    "version": 3
   },
   "file_extension": ".py",
   "mimetype": "text/x-python",
   "name": "python",
   "nbconvert_exporter": "python",
   "pygments_lexer": "ipython3",
   "version": "3.11.5"
  }
 },
 "nbformat": 4,
 "nbformat_minor": 5
}
