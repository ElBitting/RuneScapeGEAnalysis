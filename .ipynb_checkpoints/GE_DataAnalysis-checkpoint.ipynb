{
 "cells": [
  {
   "cell_type": "code",
   "execution_count": 51,
   "id": "92a4494c-145b-4bf5-b979-1f0479161030",
   "metadata": {},
   "outputs": [],
   "source": [
    "import requests\n",
    "import json\n",
    "import csv\n",
    "import time"
   ]
  },
  {
   "cell_type": "code",
   "execution_count": 52,
   "id": "66f7b965-b63e-4e54-9fb5-ce92e03e387d",
   "metadata": {},
   "outputs": [],
   "source": [
    "def fetch_item_price(item_id):\n",
    "    \"\"\"\n",
    "    Fetches the price of an item from the Old School RuneScape Grand Exchange API.\n",
    "\n",
    "    Args:\n",
    "        item_id (int): The ID of the item to fetch.\n",
    "\n",
    "    Returns:\n",
    "        dict: A dictionary containing the item's name and current price, or None if the request fails.\n",
    "    \"\"\"\n",
    "    url = \"https://prices.runescape.wiki/api/v1/osrs/1h\"\n",
    "\n",
    "    try:\n",
    "        response = requests.get(url, headers={\n",
    "        'User-Agent': '@el on discord'\n",
    "        })\n",
    "        response.raise_for_status()  # Raise an HTTPError for bad responses (4xx and 5xx)\n",
    "\n",
    "        data = response.json()\n",
    "        item_data = data.get(\"data\", {}).get(str(item_id), {})\n",
    "\n",
    "        if not item_data:\n",
    "            print(f\"Item ID {item_id} not found in the API response.\")\n",
    "            return None\n",
    "\n",
    "        return {\n",
    "            \"id\": item_id,\n",
    "            \"high\": item_data.get(\"avgHighPrice\"),\n",
    "            \"low\": item_data.get(\"avgLowPrice\")\n",
    "        }\n",
    "    except requests.exceptions.RequestException as e:\n",
    "        print(f\"Error fetching data for item ID {item_id}: {e}\")\n",
    "        return None"
   ]
  },
  {
   "cell_type": "code",
   "execution_count": 53,
   "id": "04745ba5-5c43-4ab5-a24f-d0248005ceac",
   "metadata": {},
   "outputs": [],
   "source": [
    "def save_to_csv(data, filename=\"osrs_prices.csv\"):\n",
    "    with open(filename, mode=\"w\", newline=\"\") as file:\n",
    "        writer = csv.writer(file)\n",
    "        writer.writerow([\"Item ID\", \"High Price\", \"Low Price\"])  # Header\n",
    "        for item in data:\n",
    "            writer.writerow([item[\"id\"], item[\"high\"], item[\"low\"]])\n",
    "    print(f\"Data saved to {filename}\")"
   ]
  },
  {
   "cell_type": "code",
   "execution_count": 54,
   "id": "67f48a3e-66c5-47a8-8fd8-e123f013b130",
   "metadata": {},
   "outputs": [
    {
     "name": "stdout",
     "output_type": "stream",
     "text": [
      "Old School RuneScape Grand Exchange Price Scraper\n",
      "Item ID: 4151 - High Price: 1413599 - Low Price: 1400056\n",
      "Item ID: 11840 - High Price: 119322 - Low Price: 115764\n",
      "Item ID: 12934 - High Price: 290 - Low Price: 288\n",
      "Data saved to osrs_prices.csv\n",
      "Old School RuneScape Grand Exchange Price Scraper\n",
      "Item ID: 4151 - High Price: 1413599 - Low Price: 1400056\n",
      "Item ID: 11840 - High Price: 119322 - Low Price: 115764\n",
      "Item ID: 12934 - High Price: 290 - Low Price: 288\n",
      "Data saved to osrs_prices.csv\n"
     ]
    },
    {
     "ename": "KeyboardInterrupt",
     "evalue": "",
     "output_type": "error",
     "traceback": [
      "\u001b[0;31m---------------------------------------------------------------------------\u001b[0m",
      "\u001b[0;31mKeyboardInterrupt\u001b[0m                         Traceback (most recent call last)",
      "Cell \u001b[0;32mIn[54], line 23\u001b[0m\n\u001b[1;32m     19\u001b[0m         all_data\u001b[38;5;241m.\u001b[39mappend(item_data)\n\u001b[1;32m     21\u001b[0m save_to_csv(all_data)\n\u001b[0;32m---> 23\u001b[0m time\u001b[38;5;241m.\u001b[39msleep(\u001b[38;5;241m60\u001b[39m)\n",
      "\u001b[0;31mKeyboardInterrupt\u001b[0m: "
     ]
    }
   ],
   "source": [
    "all_data = []\n",
    "while True:\n",
    "    print(\"Old School RuneScape Grand Exchange Price Scraper\")\n",
    "    \n",
    "    # Example: List of item IDs to fetch\n",
    "    item_ids = [4151, 11840, 12934]  # Abyssal whip, Dragon boots, Zulrah's scales\n",
    "    \n",
    "    for item_id in item_ids:\n",
    "        item_data = fetch_item_price(item_id)\n",
    "    \n",
    "        if item_data:\n",
    "            print(f\"Item ID: {item_data['id']} - High Price: {item_data['high']} - Low Price: {item_data['low']}\")\n",
    "        else:\n",
    "            print(f\"Failed to fetch data for item ID {item_id}\")\n",
    "\n",
    "    for item_id in item_ids:\n",
    "        item_data = fetch_item_price(item_id)\n",
    "        if item_data:\n",
    "            all_data.append(item_data)\n",
    "\n",
    "    save_to_csv(all_data)\n",
    "\n",
    "    time.sleep(3600)"
   ]
  }
 ],
 "metadata": {
  "kernelspec": {
   "display_name": "Python 3 (ipykernel)",
   "language": "python",
   "name": "python3"
  },
  "language_info": {
   "codemirror_mode": {
    "name": "ipython",
    "version": 3
   },
   "file_extension": ".py",
   "mimetype": "text/x-python",
   "name": "python",
   "nbconvert_exporter": "python",
   "pygments_lexer": "ipython3",
   "version": "3.11.5"
  }
 },
 "nbformat": 4,
 "nbformat_minor": 5
}
